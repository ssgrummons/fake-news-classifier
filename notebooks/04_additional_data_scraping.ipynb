{
 "cells": [
  {
   "cell_type": "markdown",
   "id": "f95ade8d",
   "metadata": {},
   "source": [
    "# Additional Data Scraping\n",
    "\n",
    "This notebook looks at other sources of BS and Non-BS data in order to generate additional training data in multiple domains. This is useful for expanding the dataset and improving the model's ability to generalize across different types of content."
   ]
  },
  {
   "cell_type": "markdown",
   "id": "5ca6a710",
   "metadata": {},
   "source": [
    "## arXiv"
   ]
  },
  {
   "cell_type": "code",
   "execution_count": null,
   "id": "a0c2f62e",
   "metadata": {},
   "outputs": [],
   "source": [
    "import kagglehub\n",
    "import os\n",
    "\n",
    "# Download latest version\n",
    "path = kagglehub.dataset_download(\"Cornell-University/arxiv\")\n",
    "\n",
    "print(\"Path to dataset files:\", path)\n",
    "print(\"Files in the directory:\")\n",
    "for filename in os.listdir(path):\n",
    "    if os.path.isfile(os.path.join(path, filename)):\n",
    "        print(filename)\n",
    "        \n"
   ]
  },
  {
   "cell_type": "code",
   "execution_count": null,
   "id": "0dc1bb3f",
   "metadata": {},
   "outputs": [
    {
     "data": {
      "text/html": [
       "<div>\n",
       "<style scoped>\n",
       "    .dataframe tbody tr th:only-of-type {\n",
       "        vertical-align: middle;\n",
       "    }\n",
       "\n",
       "    .dataframe tbody tr th {\n",
       "        vertical-align: top;\n",
       "    }\n",
       "\n",
       "    .dataframe thead th {\n",
       "        text-align: right;\n",
       "    }\n",
       "</style>\n",
       "<table border=\"1\" class=\"dataframe\">\n",
       "  <thead>\n",
       "    <tr style=\"text-align: right;\">\n",
       "      <th></th>\n",
       "      <th>id</th>\n",
       "      <th>submitter</th>\n",
       "      <th>authors</th>\n",
       "      <th>title</th>\n",
       "      <th>comments</th>\n",
       "      <th>journal-ref</th>\n",
       "      <th>doi</th>\n",
       "      <th>report-no</th>\n",
       "      <th>categories</th>\n",
       "      <th>license</th>\n",
       "      <th>abstract</th>\n",
       "      <th>versions</th>\n",
       "      <th>update_date</th>\n",
       "      <th>authors_parsed</th>\n",
       "    </tr>\n",
       "  </thead>\n",
       "  <tbody>\n",
       "    <tr>\n",
       "      <th>0</th>\n",
       "      <td>704.0001</td>\n",
       "      <td>Pavel Nadolsky</td>\n",
       "      <td>C. Bal\\'azs, E. L. Berger, P. M. Nadolsky, C.-...</td>\n",
       "      <td>Calculation of prompt diphoton production cros...</td>\n",
       "      <td>37 pages, 15 figures; published version</td>\n",
       "      <td>Phys.Rev.D76:013009,2007</td>\n",
       "      <td>10.1103/PhysRevD.76.013009</td>\n",
       "      <td>ANL-HEP-PR-07-12</td>\n",
       "      <td>hep-ph</td>\n",
       "      <td>None</td>\n",
       "      <td>A fully differential calculation in perturba...</td>\n",
       "      <td>[{'version': 'v1', 'created': 'Mon, 2 Apr 2007...</td>\n",
       "      <td>2008-11-26</td>\n",
       "      <td>[[Balázs, C., ], [Berger, E. L., ], [Nadolsky,...</td>\n",
       "    </tr>\n",
       "    <tr>\n",
       "      <th>1</th>\n",
       "      <td>704.0002</td>\n",
       "      <td>Louis Theran</td>\n",
       "      <td>Ileana Streinu and Louis Theran</td>\n",
       "      <td>Sparsity-certifying Graph Decompositions</td>\n",
       "      <td>To appear in Graphs and Combinatorics</td>\n",
       "      <td>None</td>\n",
       "      <td>None</td>\n",
       "      <td>None</td>\n",
       "      <td>math.CO cs.CG</td>\n",
       "      <td>http://arxiv.org/licenses/nonexclusive-distrib...</td>\n",
       "      <td>We describe a new algorithm, the $(k,\\ell)$-...</td>\n",
       "      <td>[{'version': 'v1', 'created': 'Sat, 31 Mar 200...</td>\n",
       "      <td>2008-12-13</td>\n",
       "      <td>[[Streinu, Ileana, ], [Theran, Louis, ]]</td>\n",
       "    </tr>\n",
       "    <tr>\n",
       "      <th>2</th>\n",
       "      <td>704.0003</td>\n",
       "      <td>Hongjun Pan</td>\n",
       "      <td>Hongjun Pan</td>\n",
       "      <td>The evolution of the Earth-Moon system based o...</td>\n",
       "      <td>23 pages, 3 figures</td>\n",
       "      <td>None</td>\n",
       "      <td>None</td>\n",
       "      <td>None</td>\n",
       "      <td>physics.gen-ph</td>\n",
       "      <td>None</td>\n",
       "      <td>The evolution of Earth-Moon system is descri...</td>\n",
       "      <td>[{'version': 'v1', 'created': 'Sun, 1 Apr 2007...</td>\n",
       "      <td>2008-01-13</td>\n",
       "      <td>[[Pan, Hongjun, ]]</td>\n",
       "    </tr>\n",
       "    <tr>\n",
       "      <th>3</th>\n",
       "      <td>704.0004</td>\n",
       "      <td>David Callan</td>\n",
       "      <td>David Callan</td>\n",
       "      <td>A determinant of Stirling cycle numbers counts...</td>\n",
       "      <td>11 pages</td>\n",
       "      <td>None</td>\n",
       "      <td>None</td>\n",
       "      <td>None</td>\n",
       "      <td>math.CO</td>\n",
       "      <td>None</td>\n",
       "      <td>We show that a determinant of Stirling cycle...</td>\n",
       "      <td>[{'version': 'v1', 'created': 'Sat, 31 Mar 200...</td>\n",
       "      <td>2007-05-23</td>\n",
       "      <td>[[Callan, David, ]]</td>\n",
       "    </tr>\n",
       "    <tr>\n",
       "      <th>4</th>\n",
       "      <td>704.0005</td>\n",
       "      <td>Alberto Torchinsky</td>\n",
       "      <td>Wael Abu-Shammala and Alberto Torchinsky</td>\n",
       "      <td>From dyadic $\\Lambda_{\\alpha}$ to $\\Lambda_{\\a...</td>\n",
       "      <td>None</td>\n",
       "      <td>Illinois J. Math. 52 (2008) no.2, 681-689</td>\n",
       "      <td>None</td>\n",
       "      <td>None</td>\n",
       "      <td>math.CA math.FA</td>\n",
       "      <td>None</td>\n",
       "      <td>In this paper we show how to compute the $\\L...</td>\n",
       "      <td>[{'version': 'v1', 'created': 'Mon, 2 Apr 2007...</td>\n",
       "      <td>2013-10-15</td>\n",
       "      <td>[[Abu-Shammala, Wael, ], [Torchinsky, Alberto, ]]</td>\n",
       "    </tr>\n",
       "  </tbody>\n",
       "</table>\n",
       "</div>"
      ],
      "text/plain": [
       "         id           submitter  \\\n",
       "0  704.0001      Pavel Nadolsky   \n",
       "1  704.0002        Louis Theran   \n",
       "2  704.0003         Hongjun Pan   \n",
       "3  704.0004        David Callan   \n",
       "4  704.0005  Alberto Torchinsky   \n",
       "\n",
       "                                             authors  \\\n",
       "0  C. Bal\\'azs, E. L. Berger, P. M. Nadolsky, C.-...   \n",
       "1                    Ileana Streinu and Louis Theran   \n",
       "2                                        Hongjun Pan   \n",
       "3                                       David Callan   \n",
       "4           Wael Abu-Shammala and Alberto Torchinsky   \n",
       "\n",
       "                                               title  \\\n",
       "0  Calculation of prompt diphoton production cros...   \n",
       "1           Sparsity-certifying Graph Decompositions   \n",
       "2  The evolution of the Earth-Moon system based o...   \n",
       "3  A determinant of Stirling cycle numbers counts...   \n",
       "4  From dyadic $\\Lambda_{\\alpha}$ to $\\Lambda_{\\a...   \n",
       "\n",
       "                                  comments  \\\n",
       "0  37 pages, 15 figures; published version   \n",
       "1    To appear in Graphs and Combinatorics   \n",
       "2                      23 pages, 3 figures   \n",
       "3                                 11 pages   \n",
       "4                                     None   \n",
       "\n",
       "                                 journal-ref                         doi  \\\n",
       "0                   Phys.Rev.D76:013009,2007  10.1103/PhysRevD.76.013009   \n",
       "1                                       None                        None   \n",
       "2                                       None                        None   \n",
       "3                                       None                        None   \n",
       "4  Illinois J. Math. 52 (2008) no.2, 681-689                        None   \n",
       "\n",
       "          report-no       categories  \\\n",
       "0  ANL-HEP-PR-07-12           hep-ph   \n",
       "1              None    math.CO cs.CG   \n",
       "2              None   physics.gen-ph   \n",
       "3              None          math.CO   \n",
       "4              None  math.CA math.FA   \n",
       "\n",
       "                                             license  \\\n",
       "0                                               None   \n",
       "1  http://arxiv.org/licenses/nonexclusive-distrib...   \n",
       "2                                               None   \n",
       "3                                               None   \n",
       "4                                               None   \n",
       "\n",
       "                                            abstract  \\\n",
       "0    A fully differential calculation in perturba...   \n",
       "1    We describe a new algorithm, the $(k,\\ell)$-...   \n",
       "2    The evolution of Earth-Moon system is descri...   \n",
       "3    We show that a determinant of Stirling cycle...   \n",
       "4    In this paper we show how to compute the $\\L...   \n",
       "\n",
       "                                            versions update_date  \\\n",
       "0  [{'version': 'v1', 'created': 'Mon, 2 Apr 2007...  2008-11-26   \n",
       "1  [{'version': 'v1', 'created': 'Sat, 31 Mar 200...  2008-12-13   \n",
       "2  [{'version': 'v1', 'created': 'Sun, 1 Apr 2007...  2008-01-13   \n",
       "3  [{'version': 'v1', 'created': 'Sat, 31 Mar 200...  2007-05-23   \n",
       "4  [{'version': 'v1', 'created': 'Mon, 2 Apr 2007...  2013-10-15   \n",
       "\n",
       "                                      authors_parsed  \n",
       "0  [[Balázs, C., ], [Berger, E. L., ], [Nadolsky,...  \n",
       "1           [[Streinu, Ileana, ], [Theran, Louis, ]]  \n",
       "2                                 [[Pan, Hongjun, ]]  \n",
       "3                                [[Callan, David, ]]  \n",
       "4  [[Abu-Shammala, Wael, ], [Torchinsky, Alberto, ]]  "
      ]
     },
     "execution_count": 3,
     "metadata": {},
     "output_type": "execute_result"
    }
   ],
   "source": [
    "import pandas as pd\n",
    "arxiv_df = pd.read_json(os.path.join(path, \"arxiv-metadata-oai-snapshot.json\"), lines=True, nrows=5000)\n",
    "arxiv_df.head(5)"
   ]
  },
  {
   "cell_type": "markdown",
   "id": "abd20f01",
   "metadata": {},
   "source": [
    "## Scraping RSS Feeds for BS and Non BS"
   ]
  },
  {
   "cell_type": "code",
   "execution_count": 17,
   "id": "b816d9ea",
   "metadata": {},
   "outputs": [],
   "source": [
    "from newspaper import Article\n",
    "import feedparser\n",
    "import pandas as pd\n",
    "\n",
    "def scrape_rss_feed(feed_url, max_articles=50):\n",
    "    feed = feedparser.parse(feed_url)\n",
    "    data = []\n",
    "    for entry in feed.entries[:max_articles]:\n",
    "        url, date = entry.link, entry.published\n",
    "        art = Article(url)\n",
    "        art.download(); art.parse()\n",
    "        if len(art.text) > 200:  # filter for meatier content\n",
    "            data.append({\n",
    "                \"url\": url,\n",
    "                \"title\": art.title,\n",
    "                \"date\": date,\n",
    "                \"text\": art.text[:1000]  # limit excerpt to safe use\n",
    "            })\n",
    "    return pd.DataFrame(data)\n"
   ]
  },
  {
   "cell_type": "code",
   "execution_count": 18,
   "id": "90e771d2",
   "metadata": {},
   "outputs": [
    {
     "data": {
      "text/plain": [
       "(79, 4)"
      ]
     },
     "execution_count": 18,
     "metadata": {},
     "output_type": "execute_result"
    }
   ],
   "source": [
    "legit_feed_urls = ['https://www.sciencenews.org/feed',\n",
    "             'https://www.pewresearch.org/feed/',\n",
    "             'https://theconversation.com/topics/economics-488/articles.atom',\n",
    "             'https://theconversation.com/topics/extreme-weather-3799/articles.atom']\n",
    "\n",
    "df_list = []\n",
    "for url in legit_feed_urls: \n",
    "    df = scrape_rss_feed(url, 5000)\n",
    "    df_list.append(df)\n",
    "\n",
    "legit_df = pd.concat(df_list, ignore_index=True)\n",
    "legit_df.shape"
   ]
  },
  {
   "cell_type": "code",
   "execution_count": 20,
   "id": "9961ac14",
   "metadata": {},
   "outputs": [
    {
     "data": {
      "text/plain": [
       "(31, 4)"
      ]
     },
     "execution_count": 20,
     "metadata": {},
     "output_type": "execute_result"
    }
   ],
   "source": [
    "bs_feed_url = 'https://www.naturalnews.com/rss.xml'\n",
    "bs_df = scrape_rss_feed(bs_feed_url, 10000)\n",
    "bs_df.shape"
   ]
  },
  {
   "cell_type": "code",
   "execution_count": 90,
   "id": "0d7cef63",
   "metadata": {},
   "outputs": [
    {
     "data": {
      "text/plain": [
       "Dataset({\n",
       "    features: ['title', 'text', 'domain', 'date', 'description', 'url', 'image_url'],\n",
       "    num_rows: 708241\n",
       "})"
      ]
     },
     "execution_count": 90,
     "metadata": {},
     "output_type": "execute_result"
    }
   ],
   "source": [
    "from datasets import load_dataset\n",
    "dataset = load_dataset(\"cc_news\", split=\"train\")\n",
    "\n",
    "dataset"
   ]
  },
  {
   "cell_type": "code",
   "execution_count": 91,
   "id": "420b534d",
   "metadata": {},
   "outputs": [
    {
     "data": {
      "text/plain": [
       "8759"
      ]
     },
     "execution_count": 91,
     "metadata": {},
     "output_type": "execute_result"
    }
   ],
   "source": [
    "unique_values = dataset['domain']\n",
    "unique_elements = list(set(unique_values))\n",
    "len(unique_elements)"
   ]
  },
  {
   "cell_type": "code",
   "execution_count": null,
   "id": "f6e8390f",
   "metadata": {},
   "outputs": [
    {
     "data": {
      "text/plain": [
       "['www.france-science.org',\n",
       " 'joshmitteldorf.scienceblog.com',\n",
       " 'science.slashdot.org',\n",
       " 'scienceofmind.com',\n",
       " 'scienceblogs.com',\n",
       " 'horizon.scienceblog.com',\n",
       " 'www.sciencebase.com',\n",
       " 'www.scienceworldreport.com',\n",
       " 'www.sciencealert.com',\n",
       " 'news.science360.gov',\n",
       " 'www.sciencefriday.com',\n",
       " 'alankandel.scienceblog.com',\n",
       " 'thebrainbank.scienceblog.com',\n",
       " 'www.sciencespacerobots.com',\n",
       " 'www.sciencebeing.com',\n",
       " 'science.howstuffworks.com',\n",
       " 'forthesakeofscience.com',\n",
       " 'abitofscience.com',\n",
       " 'www.sciencedaily.com',\n",
       " 'www.livescience.com',\n",
       " 'scienceblog.com',\n",
       " 'www.myscience.org']"
      ]
     },
     "execution_count": 71,
     "metadata": {},
     "output_type": "execute_result"
    }
   ],
   "source": [
    "item_to_check = \"science\"\n",
    "\n",
    "science_domains = [item for item in unique_elements  if item_to_check in item]\n",
    "science_domains\n"
   ]
  },
  {
   "cell_type": "code",
   "execution_count": 63,
   "id": "366a586e",
   "metadata": {},
   "outputs": [
    {
     "data": {
      "text/plain": [
       "Dataset({\n",
       "    features: ['title', 'text', 'domain', 'date', 'description', 'url', 'image_url'],\n",
       "    num_rows: 237\n",
       "})"
      ]
     },
     "execution_count": 63,
     "metadata": {},
     "output_type": "execute_result"
    }
   ],
   "source": [
    "def filter_dataset(dataset, column_name, target_string):\n",
    "    return dataset.filter(lambda example: target_string in example[column_name])\n",
    "\n",
    "domain = \"dailymail.co.uk/health\"\n",
    "filtered_dataset = filter_dataset(dataset, 'url', domain)\n",
    "\n",
    "filtered_dataset"
   ]
  },
  {
   "cell_type": "code",
   "execution_count": 68,
   "id": "1f597570",
   "metadata": {},
   "outputs": [
    {
     "data": {
      "text/plain": [
       "Dataset({\n",
       "    features: ['title', 'text', 'domain', 'date', 'description', 'url', 'image_url'],\n",
       "    num_rows: 357\n",
       "})"
      ]
     },
     "execution_count": 68,
     "metadata": {},
     "output_type": "execute_result"
    }
   ],
   "source": [
    "domain = \"theconversation.com\"\n",
    "filtered_dataset = filter_dataset(dataset, 'url', domain)\n",
    "\n",
    "filtered_dataset"
   ]
  },
  {
   "cell_type": "code",
   "execution_count": null,
   "id": "1953ae1d",
   "metadata": {},
   "outputs": [
    {
     "name": "stderr",
     "output_type": "stream",
     "text": [
      "Filter: 100%|██████████| 708241/708241 [00:05<00:00, 132182.65 examples/s]\n"
     ]
    },
    {
     "name": "stdout",
     "output_type": "stream",
     "text": [
      "www.france-science.org Row Count: 2\n"
     ]
    },
    {
     "name": "stderr",
     "output_type": "stream",
     "text": [
      "Filter: 100%|██████████| 708241/708241 [00:03<00:00, 203724.89 examples/s]\n"
     ]
    },
    {
     "name": "stdout",
     "output_type": "stream",
     "text": [
      "joshmitteldorf.scienceblog.com Row Count: 1\n"
     ]
    },
    {
     "name": "stderr",
     "output_type": "stream",
     "text": [
      "Filter: 100%|██████████| 708241/708241 [00:03<00:00, 203751.26 examples/s]\n"
     ]
    },
    {
     "name": "stdout",
     "output_type": "stream",
     "text": [
      "science.slashdot.org Row Count: 50\n",
      "scienceofmind.com Row Count: 1\n"
     ]
    },
    {
     "name": "stderr",
     "output_type": "stream",
     "text": [
      "Filter: 100%|██████████| 708241/708241 [00:03<00:00, 204959.54 examples/s]\n"
     ]
    },
    {
     "name": "stdout",
     "output_type": "stream",
     "text": [
      "scienceblogs.com Row Count: 7\n"
     ]
    },
    {
     "name": "stderr",
     "output_type": "stream",
     "text": [
      "Filter: 100%|██████████| 708241/708241 [00:03<00:00, 200232.96 examples/s]\n"
     ]
    },
    {
     "name": "stdout",
     "output_type": "stream",
     "text": [
      "horizon.scienceblog.com Row Count: 4\n"
     ]
    },
    {
     "name": "stderr",
     "output_type": "stream",
     "text": [
      "Filter: 100%|██████████| 708241/708241 [00:03<00:00, 206525.93 examples/s]\n"
     ]
    },
    {
     "name": "stdout",
     "output_type": "stream",
     "text": [
      "www.sciencebase.com Row Count: 2\n"
     ]
    },
    {
     "name": "stderr",
     "output_type": "stream",
     "text": [
      "Filter: 100%|██████████| 708241/708241 [00:03<00:00, 206239.28 examples/s]\n"
     ]
    },
    {
     "name": "stdout",
     "output_type": "stream",
     "text": [
      "www.scienceworldreport.com Row Count: 34\n"
     ]
    },
    {
     "name": "stderr",
     "output_type": "stream",
     "text": [
      "Filter: 100%|██████████| 708241/708241 [00:03<00:00, 203885.36 examples/s]\n"
     ]
    },
    {
     "name": "stdout",
     "output_type": "stream",
     "text": [
      "www.sciencealert.com Row Count: 63\n"
     ]
    },
    {
     "name": "stderr",
     "output_type": "stream",
     "text": [
      "Filter: 100%|██████████| 708241/708241 [00:03<00:00, 206164.50 examples/s]\n"
     ]
    },
    {
     "name": "stdout",
     "output_type": "stream",
     "text": [
      "news.science360.gov Row Count: 22\n"
     ]
    },
    {
     "name": "stderr",
     "output_type": "stream",
     "text": [
      "Filter: 100%|██████████| 708241/708241 [00:03<00:00, 197916.49 examples/s]\n"
     ]
    },
    {
     "name": "stdout",
     "output_type": "stream",
     "text": [
      "www.sciencefriday.com Row Count: 18\n"
     ]
    },
    {
     "name": "stderr",
     "output_type": "stream",
     "text": [
      "Filter: 100%|██████████| 708241/708241 [00:03<00:00, 193836.66 examples/s]\n"
     ]
    },
    {
     "name": "stdout",
     "output_type": "stream",
     "text": [
      "alankandel.scienceblog.com Row Count: 5\n"
     ]
    },
    {
     "name": "stderr",
     "output_type": "stream",
     "text": [
      "Filter: 100%|██████████| 708241/708241 [00:03<00:00, 198473.84 examples/s]\n"
     ]
    },
    {
     "name": "stdout",
     "output_type": "stream",
     "text": [
      "thebrainbank.scienceblog.com Row Count: 1\n"
     ]
    },
    {
     "name": "stderr",
     "output_type": "stream",
     "text": [
      "Filter: 100%|██████████| 708241/708241 [00:03<00:00, 202735.43 examples/s]\n"
     ]
    },
    {
     "name": "stdout",
     "output_type": "stream",
     "text": [
      "www.sciencespacerobots.com Row Count: 5\n"
     ]
    },
    {
     "name": "stderr",
     "output_type": "stream",
     "text": [
      "Filter: 100%|██████████| 708241/708241 [00:03<00:00, 205051.18 examples/s]\n"
     ]
    },
    {
     "name": "stdout",
     "output_type": "stream",
     "text": [
      "www.sciencebeing.com Row Count: 10\n"
     ]
    },
    {
     "name": "stderr",
     "output_type": "stream",
     "text": [
      "Filter: 100%|██████████| 708241/708241 [00:03<00:00, 180949.99 examples/s]\n"
     ]
    },
    {
     "name": "stdout",
     "output_type": "stream",
     "text": [
      "science.howstuffworks.com Row Count: 8\n"
     ]
    },
    {
     "name": "stderr",
     "output_type": "stream",
     "text": [
      "Filter: 100%|██████████| 708241/708241 [00:03<00:00, 187774.71 examples/s]\n"
     ]
    },
    {
     "name": "stdout",
     "output_type": "stream",
     "text": [
      "forthesakeofscience.com Row Count: 1\n",
      "abitofscience.com Row Count: 19\n"
     ]
    },
    {
     "name": "stderr",
     "output_type": "stream",
     "text": [
      "Filter: 100%|██████████| 708241/708241 [00:03<00:00, 193676.39 examples/s]\n"
     ]
    },
    {
     "name": "stdout",
     "output_type": "stream",
     "text": [
      "www.sciencedaily.com Row Count: 106\n"
     ]
    },
    {
     "name": "stderr",
     "output_type": "stream",
     "text": [
      "Filter: 100%|██████████| 708241/708241 [00:03<00:00, 202879.35 examples/s]\n"
     ]
    },
    {
     "name": "stdout",
     "output_type": "stream",
     "text": [
      "www.livescience.com Row Count: 34\n",
      "scienceblog.com Row Count: 71\n"
     ]
    },
    {
     "name": "stderr",
     "output_type": "stream",
     "text": [
      "Filter: 100%|██████████| 708241/708241 [00:03<00:00, 197650.93 examples/s]"
     ]
    },
    {
     "name": "stdout",
     "output_type": "stream",
     "text": [
      "www.myscience.org Row Count: 17\n"
     ]
    },
    {
     "name": "stderr",
     "output_type": "stream",
     "text": [
      "\n"
     ]
    }
   ],
   "source": [
    "for url in science_domains:\n",
    "    filtered_dataset = filter_dataset(dataset, 'url', url)\n",
    "    print(f\"{url} Row Count: {filtered_dataset.num_rows}\")"
   ]
  },
  {
   "cell_type": "markdown",
   "id": "42e7df72",
   "metadata": {},
   "source": [
    "Use www.sciencedaily.com for non-BS data"
   ]
  },
  {
   "cell_type": "code",
   "execution_count": 92,
   "id": "7ef92beb",
   "metadata": {},
   "outputs": [
    {
     "data": {
      "text/plain": [
       "['www.dailyhealthneeds.com',\n",
       " 'healthyregion.bangordailynews.com',\n",
       " 'www.healthcareitnews.com',\n",
       " 'www.menshealth.com',\n",
       " 'health.fajar.co.id',\n",
       " 'health.good.is',\n",
       " 'www.healthcanal.com',\n",
       " 'www.health24.com',\n",
       " 'www.diabeteshealth.com',\n",
       " 'healthcitysun.com',\n",
       " 'www.thehealthsite.com',\n",
       " 'catchinghealth.bangordailynews.com',\n",
       " 'www.health.com']"
      ]
     },
     "execution_count": 92,
     "metadata": {},
     "output_type": "execute_result"
    }
   ],
   "source": [
    "item_to_check = \"health\"\n",
    "\n",
    "health_domains = [item for item in unique_elements  if item_to_check in item]\n",
    "health_domains\n"
   ]
  },
  {
   "cell_type": "code",
   "execution_count": 93,
   "id": "d481bd77",
   "metadata": {},
   "outputs": [
    {
     "name": "stderr",
     "output_type": "stream",
     "text": [
      "Filter: 100%|██████████| 708241/708241 [00:05<00:00, 118841.36 examples/s]\n"
     ]
    },
    {
     "name": "stdout",
     "output_type": "stream",
     "text": [
      "www.dailyhealthneeds.com Row Count: 1\n"
     ]
    },
    {
     "name": "stderr",
     "output_type": "stream",
     "text": [
      "Filter: 100%|██████████| 708241/708241 [00:03<00:00, 202892.30 examples/s]\n"
     ]
    },
    {
     "name": "stdout",
     "output_type": "stream",
     "text": [
      "healthyregion.bangordailynews.com Row Count: 1\n"
     ]
    },
    {
     "name": "stderr",
     "output_type": "stream",
     "text": [
      "Filter: 100%|██████████| 708241/708241 [00:03<00:00, 201321.32 examples/s]\n"
     ]
    },
    {
     "name": "stdout",
     "output_type": "stream",
     "text": [
      "www.healthcareitnews.com Row Count: 37\n"
     ]
    },
    {
     "name": "stderr",
     "output_type": "stream",
     "text": [
      "Filter: 100%|██████████| 708241/708241 [00:03<00:00, 206519.29 examples/s]\n"
     ]
    },
    {
     "name": "stdout",
     "output_type": "stream",
     "text": [
      "www.menshealth.com Row Count: 10\n"
     ]
    },
    {
     "name": "stderr",
     "output_type": "stream",
     "text": [
      "Filter: 100%|██████████| 708241/708241 [00:03<00:00, 200239.19 examples/s]\n"
     ]
    },
    {
     "name": "stdout",
     "output_type": "stream",
     "text": [
      "health.fajar.co.id Row Count: 2\n"
     ]
    },
    {
     "name": "stderr",
     "output_type": "stream",
     "text": [
      "Filter: 100%|██████████| 708241/708241 [00:03<00:00, 201649.39 examples/s]\n"
     ]
    },
    {
     "name": "stdout",
     "output_type": "stream",
     "text": [
      "health.good.is Row Count: 3\n"
     ]
    },
    {
     "name": "stderr",
     "output_type": "stream",
     "text": [
      "Filter: 100%|██████████| 708241/708241 [00:03<00:00, 204456.03 examples/s]\n"
     ]
    },
    {
     "name": "stdout",
     "output_type": "stream",
     "text": [
      "www.healthcanal.com Row Count: 2\n"
     ]
    },
    {
     "name": "stderr",
     "output_type": "stream",
     "text": [
      "Filter: 100%|██████████| 708241/708241 [00:03<00:00, 199562.13 examples/s]\n"
     ]
    },
    {
     "name": "stdout",
     "output_type": "stream",
     "text": [
      "www.health24.com Row Count: 17\n"
     ]
    },
    {
     "name": "stderr",
     "output_type": "stream",
     "text": [
      "Filter: 100%|██████████| 708241/708241 [00:03<00:00, 205777.90 examples/s]\n"
     ]
    },
    {
     "name": "stdout",
     "output_type": "stream",
     "text": [
      "www.diabeteshealth.com Row Count: 4\n"
     ]
    },
    {
     "name": "stderr",
     "output_type": "stream",
     "text": [
      "Filter: 100%|██████████| 708241/708241 [00:03<00:00, 205890.34 examples/s]\n"
     ]
    },
    {
     "name": "stdout",
     "output_type": "stream",
     "text": [
      "healthcitysun.com Row Count: 10\n"
     ]
    },
    {
     "name": "stderr",
     "output_type": "stream",
     "text": [
      "Filter: 100%|██████████| 708241/708241 [00:03<00:00, 198683.29 examples/s]\n"
     ]
    },
    {
     "name": "stdout",
     "output_type": "stream",
     "text": [
      "www.thehealthsite.com Row Count: 55\n"
     ]
    },
    {
     "name": "stderr",
     "output_type": "stream",
     "text": [
      "Filter: 100%|██████████| 708241/708241 [00:03<00:00, 202630.61 examples/s]\n"
     ]
    },
    {
     "name": "stdout",
     "output_type": "stream",
     "text": [
      "catchinghealth.bangordailynews.com Row Count: 10\n"
     ]
    },
    {
     "name": "stderr",
     "output_type": "stream",
     "text": [
      "Filter: 100%|██████████| 708241/708241 [00:03<00:00, 203335.30 examples/s]"
     ]
    },
    {
     "name": "stdout",
     "output_type": "stream",
     "text": [
      "www.health.com Row Count: 33\n"
     ]
    },
    {
     "name": "stderr",
     "output_type": "stream",
     "text": [
      "\n"
     ]
    }
   ],
   "source": [
    "for url in health_domains:\n",
    "    filtered_dataset = filter_dataset(dataset, 'url', url)\n",
    "    print(f\"{url} Row Count: {filtered_dataset.num_rows}\")"
   ]
  },
  {
   "cell_type": "code",
   "execution_count": 95,
   "id": "0c12fcef",
   "metadata": {},
   "outputs": [
    {
     "data": {
      "text/plain": [
       "['Sedentary lifestyle and no exercise leading to critical illness',\n",
       " 'Union Minister Uma Bharti admitted to AIIMS for high blood pressure',\n",
       " 'Delhi Burari deaths: Did ‘shared psychosis’ lead to the mass suicides in the Bhatia family?',\n",
       " '3 bathroom sex positions you should surely try!',\n",
       " 'Can good bacteria keep gut healthy?',\n",
       " 'Odisha government to establish 19 hospitals on Public Private Partnership (PPP) mode',\n",
       " 'Which one is healthier: pasteurised milk, unpasteurised milk, homogenous milk or toned milk?',\n",
       " 'Can pelvic exams help diagnose STDs in girls?',\n",
       " 'World No Tobacco Day 2018: Secondhand smoke and its risk to your heart',\n",
       " 'International Day of Happiness 2018: These yoga asanas will help improve your mental health',\n",
       " 'World Oral Health Day 2018: 7 harmful habits that are destroying your tooth enamel',\n",
       " 'World No Tobacco Day 2018: Ditch smoking and tobacco; choose heart health',\n",
       " 'Lap-band surgery may lower chronic knee pain',\n",
       " 'Punjab government to impose ban on hookah bars across the state',\n",
       " 'Mumbai’s first pediatric heart transplant recipient recounts her journey',\n",
       " 'Smokers! Quitting smoking can improve your well-being',\n",
       " 'World Head Injury Awareness Day 2018: over 57 percent Indian motorcyclists don’t wear helmets',\n",
       " 'Matcha green tea face pack that you must try this summer',\n",
       " 'Evidence of genetic origin in Zika virus might hold clue for vaccine, says researchers',\n",
       " 'Blk. alkaline water makes its foray into India',\n",
       " 'Delhi Burari Deaths: What is shared psychosis? And other facts about this condition shared by an expert',\n",
       " 'Study revels: Half the people in India want more ‘mobile-free’ time',\n",
       " 'International Day of Happiness 2018: Meditation trends you need to know',\n",
       " '4 skin conditions that are common in summer',\n",
       " 'Da Vinci Xi System, world’s most advanced robotic surgery technology now in India',\n",
       " 'Your weight loss can motivate your partner to lose weight, suggests study',\n",
       " 'World Oral Health Day 2018: 7 things your dentist wants you to know about oral health',\n",
       " '4 reasons for the non-alcoholic fatty liver in children',\n",
       " 'International Day of Happiness 2018: 5 things you must do to be happy in 2018',\n",
       " 'Vivek Dahiya’s fitness routine is the reason why he looks so HOT!',\n",
       " '2 fantastic herbs which can add flavour and fragrance to your favourite dish',\n",
       " 'Bacteria that puts you at risk of colon cancer found!',\n",
       " 'Migraines could increase the risk of cardiovascular diseases, suggests a study',\n",
       " 'Health tips for a healthy workplace',\n",
       " 'Alcohol clears up toxins in the brain, improves cognitive health, says study',\n",
       " 'World No Tobacco Day 2018: How smoking harms your vision',\n",
       " 'Burari Delhi suicide shocker: 2 other mass suicide mysteries that shook the world!',\n",
       " 'Identified: ‘Anxiety cells’ reside in your brain',\n",
       " 'Cancer survivor, Manisha Koirala’s Instagram is #Goals for people who want to live healthier',\n",
       " 'Monsoon diet for Indian women',\n",
       " 'World Cancer Day: Genetic counsellors can help in early detection of cancer',\n",
       " 'Rally: Over 100 participants pledged towards spreading awareness about vector and water borne diseases',\n",
       " 'Shamshera actor Vaani Kapoor’s hairstyles are truly sassy!',\n",
       " 'Why do women crave for chocolates during periods?',\n",
       " 'Overactive bladder: Eat and avoid these foods and beverages',\n",
       " 'Sonali Bendre reveals that she is suffering from ‘high grade’ cancer',\n",
       " 'Long-term use of paracetamol during pregnancy can lead to autism, ADHD',\n",
       " 'World Oral Health Day 2018: 5 shocking facts about your teeth, gum diseases and overall oral health that will shock you',\n",
       " 'A septuagenarian’s life saved nine minutes after he experienced a severe cardiac arrest',\n",
       " 'World Cancer Day: Expert tips to stay ahead of breast and cervical cancer',\n",
       " 'Aerobics post-lung cancer surgery lowers the risk of complications by 50%',\n",
       " 'Grapes may act as a natural remedy to fight depression',\n",
       " 'Mediterranean diet may boost bones and muscle mass in postmenopausal women',\n",
       " 'E-cigarettes associated with higher risk of non-alcohol fatty liver diseases',\n",
       " 'Neti pot for your nose: Use it right']"
      ]
     },
     "execution_count": 95,
     "metadata": {},
     "output_type": "execute_result"
    }
   ],
   "source": [
    "bs_dataset = filter_dataset(dataset, 'url', 'www.thehealthsite.com')\n",
    "bs_dataset['title']"
   ]
  }
 ],
 "metadata": {
  "kernelspec": {
   "display_name": "fake_news_classifier",
   "language": "python",
   "name": "python3"
  },
  "language_info": {
   "codemirror_mode": {
    "name": "ipython",
    "version": 3
   },
   "file_extension": ".py",
   "mimetype": "text/x-python",
   "name": "python",
   "nbconvert_exporter": "python",
   "pygments_lexer": "ipython3",
   "version": "3.11.11"
  }
 },
 "nbformat": 4,
 "nbformat_minor": 5
}
