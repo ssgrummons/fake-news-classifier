{
 "cells": [
  {
   "cell_type": "markdown",
   "id": "81b23a4d",
   "metadata": {},
   "source": [
    "# Baseline ML Modeling with Logistic Regression and TF-IDF\n",
    "\n",
    "This notebook demonstrates the baseline process for author classification using logistic regression and TF-IDF. It includes data preprocessing, model training, and evaluation.\n",
    "\n",
    "## Logistic Regression as a Semantic Classifier\n",
    "\n",
    "Logistic Regression can be used for both regression and classification tasks. This baseline model works under the assumption that different authors leverage a different lexicon, so when we measure the most common relevant words in the given texts, there will be different patters associated with different authors. \n",
    "\n",
    "The idea is that if our baseline Logistic Classifier can achieve a 70-80% recall and precision, then our hypothesis has promise and a more mature model will be able to better classify these texts.\n",
    "\n",
    "## Intuition and Limitations\n",
    "\n",
    "Many fiction authors have their own distinctive style and genres.  A passage from J.R.R. Tolkien is likely going to sound different than a passage from Frank Herbert.  So given that we can quantify some of these semantic patterns, even crudely by term frequency, we can see if that hypothesis is true of our data set.\n",
    "\n",
    "One limitation of this approach is that it only works for larger and more stylistic passages.  Of these two examples from Tolkien, one is clearly distinctively Tolkien:\n",
    "> The Black Rider flung back his hood, and behold! he had a kingly crown; and yet upon no head visible was it set. The red fires shone between it and the mantled shoulders vast and dark. From a mouth unseen there came a deadly laughter.\n",
    "'Old fool!' he said. 'Old fool! This is my hour. Do you not know Death when you see it? Die now and curse in vain!' And with that he lifted high his sword and flames ran down the blade.  **Return of the King**, _The Siege of Gondor_\n",
    "\n",
    "> \"Noon?\" said Sam, trying to calculate.  \"Noon of what day?\"  **Return of the King**, _The Field of Cormallen_\n",
    "\n"
   ]
  },
  {
   "cell_type": "code",
   "execution_count": null,
   "id": "2fcd1a71",
   "metadata": {},
   "outputs": [],
   "source": [
    "import pandas as pd\n",
    "from sklearn.model_selection import train_test_split\n",
    "from sklearn.pipeline import Pipeline\n",
    "from sklearn.feature_extraction.text import TfidfVectorizer\n",
    "from sklearn.linear_model import LogisticRegression\n",
    "from sklearn.metrics import confusion_matrix\n",
    "import seaborn as sns\n",
    "import matplotlib.pyplot as plt\n",
    "\n",
    "import sys\n",
    "sys.path.append('../')\n",
    "\n",
    "from src.utils.helpers import classification_report_to_df"
   ]
  },
  {
   "cell_type": "code",
   "execution_count": null,
   "id": "371d049c",
   "metadata": {},
   "outputs": [],
   "source": [
    "# Load your pre-cleaned dataset\n",
    "df = pd.read_csv('../data/raw/train.csv')\n",
    "\n",
    "# Split data\n",
    "X = df['text']\n",
    "y = df['author']\n",
    "X_train, X_test, y_train, y_test = train_test_split(X, y, stratify=y, test_size=0.2, random_state=42)\n",
    "\n",
    "# Build pipeline\n",
    "pipeline = Pipeline([\n",
    "    ('tfidf', TfidfVectorizer(ngram_range=(1, 2), max_features=10000)),\n",
    "    ('clf', LogisticRegression(max_iter=1000, solver='lbfgs', multi_class='multinomial'))\n",
    "])\n",
    "\n",
    "# Train\n",
    "pipeline.fit(X_train, y_train)\n",
    "\n",
    "# Predict\n",
    "y_pred = pipeline.predict(X_test)\n",
    "\n",
    "# Evaluation\n",
    "display(classification_report_to_df(y_test, y_pred))\n",
    "\n",
    "# Optional: Plot confusion matrix\n",
    "cm = confusion_matrix(y_test, y_pred, labels=pipeline.classes_)\n",
    "sns.heatmap(cm, annot=True, fmt='d', xticklabels=pipeline.classes_, yticklabels=pipeline.classes_)\n",
    "plt.title('Confusion Matrix - Baseline TF-IDF + Logistic Regression')\n",
    "plt.xlabel('Predicted')\n",
    "plt.ylabel('Actual')\n",
    "plt.show()\n"
   ]
  }
 ],
 "metadata": {
  "kernelspec": {
   "display_name": "Python 3",
   "language": "python",
   "name": "python3"
  },
  "language_info": {
   "codemirror_mode": {
    "name": "ipython",
    "version": 3
   },
   "file_extension": ".py",
   "mimetype": "text/x-python",
   "name": "python",
   "nbconvert_exporter": "python",
   "pygments_lexer": "ipython3",
   "version": "3.11.11"
  }
 },
 "nbformat": 4,
 "nbformat_minor": 5
}
